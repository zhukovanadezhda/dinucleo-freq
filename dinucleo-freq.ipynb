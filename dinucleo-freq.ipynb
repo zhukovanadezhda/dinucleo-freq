{
 "cells": [
  {
   "cell_type": "markdown",
   "id": "d56bc9da-7f12-4984-bb2b-5b4c097557a1",
   "metadata": {},
   "source": [
    "# Dinucleotide frequencies in reference genomes"
   ]
  },
  {
   "cell_type": "code",
   "execution_count": 57,
   "id": "1bee1b07-75ac-431b-bc83-38013f516d32",
   "metadata": {},
   "outputs": [
    {
     "name": "stdout",
     "output_type": "stream",
     "text": [
      "Note: you may need to restart the kernel to use updated packages.\n"
     ]
    }
   ],
   "source": [
    "pip install biopython -q"
   ]
  },
  {
   "cell_type": "code",
   "execution_count": 56,
   "id": "ed7b4841-e5a4-4fef-b82d-8f3163a4f032",
   "metadata": {},
   "outputs": [
    {
     "name": "stdout",
     "output_type": "stream",
     "text": [
      "Note: you may need to restart the kernel to use updated packages.\n"
     ]
    }
   ],
   "source": [
    "pip install ensembl_rest -q"
   ]
  },
  {
   "cell_type": "code",
   "execution_count": null,
   "id": "6d57cb18-b3ee-4101-b553-797ee3665ff2",
   "metadata": {},
   "outputs": [],
   "source": [
    "from Bio import Entrez, SeqIO\n",
    "import gzip\n",
    "import requests\n",
    "from tqdm import tqdm\n",
    "import json\n",
    "\n",
    "import matplotlib.pyplot as plt\n",
    "import matplotlib.patches as mpatches\n",
    "import numpy as np\n",
    "import pandas as pd\n",
    "\n",
    "\n",
    "%reload_ext autoreload\n",
    "%autoreload 2\n",
    "import dinucleo_freq as dnf"
   ]
  },
  {
   "cell_type": "markdown",
   "id": "67f67599-0053-4ec1-ade2-3db41b1fa31f",
   "metadata": {},
   "source": [
    "## Escherichia coli"
   ]
  },
  {
   "cell_type": "code",
   "execution_count": 62,
   "id": "f26624e9-3272-4c46-9cb6-61b5b5c1d8c2",
   "metadata": {
    "tags": []
   },
   "outputs": [
    {
     "name": "stdout",
     "output_type": "stream",
     "text": [
      "Analysing Escherichia_coli_w_gca_000184185 genome \n",
      "\n"
     ]
    },
    {
     "name": "stderr",
     "output_type": "stream",
     "text": [
     ]
    }
   ],
   "source": [
    "#url=\"http://ftp.ensemblgenomes.org/pub/bacteria/release-52/fasta/bacteria_26_collection/escherichia_coli_w_gca_000184185/dna/Escherichia_coli_w_gca_000184185.ASM18418v1.dna.toplevel.fa.gz\"\n",
    "#response = requests.get(url)\n",
    "\n",
    "e_coli_di_fr, e_coli_di_fr_th = dnf.obs_vs_theo_dinuc(\"Escherichia_coli_w_gca_000184185.ASM18418v1.dna.toplevel.fa.gz\")"
   ]
  },
  {
   "cell_type": "code",
   "execution_count": 68,
   "id": "bd9ffc5e-6213-4ca3-9e0d-7c77474f7c25",
   "metadata": {},
   "outputs": [
    {
     "data": {
      "text/plain": [
       "({'TT': 0.0728,\n",
       "  'GT': 0.0552,\n",
       "  'CT': 0.0512,\n",
       "  'AT': 0.0666,\n",
       "  'TG': 0.0698,\n",
       "  'GG': 0.0587,\n",
       "  'CG': 0.0743,\n",
       "  'AG': 0.0512,\n",
       "  'TC': 0.0577,\n",
       "  'GC': 0.0825,\n",
       "  'CC': 0.0587,\n",
       "  'AC': 0.0552,\n",
       "  'TA': 0.0455,\n",
       "  'GA': 0.0577,\n",
       "  'CA': 0.0698,\n",
       "  'AA': 0.0728},\n",
       " {'TT': 0.06046681,\n",
       "  'GT': 0.06248319,\n",
       "  'CT': 0.06248319,\n",
       "  'AT': 0.06046681,\n",
       "  'TG': 0.06248319,\n",
       "  'GG': 0.06456681,\n",
       "  'CG': 0.06456681,\n",
       "  'AG': 0.06248319,\n",
       "  'TC': 0.06248319,\n",
       "  'GC': 0.06456681,\n",
       "  'CC': 0.06456681,\n",
       "  'AC': 0.06248319,\n",
       "  'TA': 0.06046681,\n",
       "  'GA': 0.06248319,\n",
       "  'CA': 0.06248319,\n",
       "  'AA': 0.06046681})"
      ]
     },
     "execution_count": 68,
     "metadata": {},
     "output_type": "execute_result"
    }
   ],
   "source": [
    "e_coli_di_fr, e_coli_di_fr_th"
   ]
  },
  {
   "cell_type": "markdown",
   "id": "dbddc62d-9ac3-4810-8b0e-a99c0af6f5ac",
   "metadata": {},
   "source": [
    "## Drosophila melanogaster"
   ]
  },
  {
   "cell_type": "code",
   "execution_count": 72,
   "id": "e1596061-9bea-4328-8845-ce49b78d07e5",
   "metadata": {
    "tags": []
   },
   "outputs": [
    {
     "name": "stdout",
     "output_type": "stream",
     "text": [
      "Analysing Drosophila_melanogaster genome \n",
      "\n"
     ]
    },
    {
     "name": "stderr",
     "output_type": "stream",
     "text": [
     ]
    }
   ],
   "source": [
    "d_melanogaster_di_fr, d_melanogaster_di_fr_th = dnf.obs_vs_theo_dinuc(\"Drosophila_melanogaster.BDGP6.32.dna.toplevel.fa.gz\")"
   ]
  },
  {
   "cell_type": "code",
   "execution_count": 75,
   "id": "18d5b05a-7d4c-4607-906a-c2d783b8edfa",
   "metadata": {},
   "outputs": [
    {
     "data": {
      "text/plain": [
       "({'TT': 0.1017,\n",
       "  'GT': 0.0526,\n",
       "  'CT': 0.0544,\n",
       "  'AT': 0.0813,\n",
       "  'TG': 0.0679,\n",
       "  'GG': 0.0463,\n",
       "  'CG': 0.0413,\n",
       "  'AG': 0.0544,\n",
       "  'TC': 0.0557,\n",
       "  'GC': 0.0554,\n",
       "  'CC': 0.0463,\n",
       "  'AC': 0.0526,\n",
       "  'TA': 0.0646,\n",
       "  'GA': 0.0557,\n",
       "  'CA': 0.0679,\n",
       "  'AA': 0.1017},\n",
       " {'TT': 0.0841,\n",
       "  'GT': 0.0609,\n",
       "  'CT': 0.0609,\n",
       "  'AT': 0.0841,\n",
       "  'TG': 0.0609,\n",
       "  'GG': 0.0441,\n",
       "  'CG': 0.0441,\n",
       "  'AG': 0.0609,\n",
       "  'TC': 0.0609,\n",
       "  'GC': 0.0441,\n",
       "  'CC': 0.0441,\n",
       "  'AC': 0.0609,\n",
       "  'TA': 0.0841,\n",
       "  'GA': 0.0609,\n",
       "  'CA': 0.0609,\n",
       "  'AA': 0.0841})"
      ]
     },
     "execution_count": 75,
     "metadata": {},
     "output_type": "execute_result"
    }
   ],
   "source": [
    "d_melanogaster_di_fr, d_melanogaster_di_fr_th"
   ]
  },
  {
   "cell_type": "markdown",
   "id": "7dc4884f-0613-4d2c-9e86-7cd9138a4d04",
   "metadata": {},
   "source": [
    "## Platynereis dumerilii"
   ]
  },
  {
   "cell_type": "code",
   "execution_count": 74,
   "id": "fd9ec2e5-489a-4ab8-8b79-de7c19750cf0",
   "metadata": {},
   "outputs": [
    {
     "name": "stdout",
     "output_type": "stream",
     "text": [
      "Analysing GCA_026936325 genome \n",
      "\n"
     ]
    },
   
     ]
    }
   ],
   "source": [
    "p_dumerilii_di_fr, p_dumerilii_di_fr = dnf.obs_vs_theo_dinuc(\"GCA_026936325.1_EMBL_pdum_1.0_genomic.fna.dz\")"
   ]
  },
  {
   "cell_type": "markdown",
   "id": "240541a5-b969-4876-862a-faa6e4114b9b",
   "metadata": {},
   "source": [
    "## Arabidopsis thaliana"
   ]
  },
  {
   "cell_type": "code",
   "execution_count": 73,
   "id": "6d902f94-5b3e-4ba4-b727-81e92c94030d",
   "metadata": {},
   "outputs": [
    {
     "name": "stdout",
     "output_type": "stream",
     "text": [
      "Analysing Arabidopsis_thaliana genome \n",
      "\n"
     ]
    },
    {
     "name": "stderr",
     "output_type": "stream",
     "text": [
     ]
    }
   ],
   "source": [
    "a_thaliana_di_fr, a_thaliana_di_fr_th = dnf.obs_vs_theo_dinuc(\"Arabidopsis_thaliana.TAIR10.dna.toplevel.fa.gz\")"
   ]
  },
  {
   "cell_type": "code",
   "execution_count": 76,
   "id": "2c922529-dae0-496d-adf6-1d53d45e32ab",
   "metadata": {},
   "outputs": [
    {
     "data": {
      "text/plain": [
       "({'TT': 0.1156,\n",
       "  'GT': 0.0523,\n",
       "  'CT': 0.0595,\n",
       "  'AT': 0.0924,\n",
       "  'TG': 0.0635,\n",
       "  'GG': 0.0339,\n",
       "  'CG': 0.0235,\n",
       "  'AG': 0.0595,\n",
       "  'TC': 0.0641,\n",
       "  'GC': 0.03,\n",
       "  'CC': 0.0339,\n",
       "  'AC': 0.0523,\n",
       "  'TA': 0.0766,\n",
       "  'GA': 0.0641,\n",
       "  'CA': 0.0635,\n",
       "  'AA': 0.1156},\n",
       " {'TT': 0.1022,\n",
       "  'GT': 0.0576,\n",
       "  'CT': 0.0576,\n",
       "  'AT': 0.1022,\n",
       "  'TG': 0.0576,\n",
       "  'GG': 0.0325,\n",
       "  'CG': 0.0325,\n",
       "  'AG': 0.0576,\n",
       "  'TC': 0.0576,\n",
       "  'GC': 0.0325,\n",
       "  'CC': 0.0325,\n",
       "  'AC': 0.0576,\n",
       "  'TA': 0.1022,\n",
       "  'GA': 0.0576,\n",
       "  'CA': 0.0576,\n",
       "  'AA': 0.1022})"
      ]
     },
     "execution_count": 76,
     "metadata": {},
     "output_type": "execute_result"
    }
   ],
   "source": [
    "a_thaliana_di_fr, a_thaliana_di_fr_th"
   ]
  },
  {
   "cell_type": "markdown",
   "id": "27bf2d37-1176-4f24-95dd-683de10fc59c",
   "metadata": {},
   "source": [
    "## Saccharomyces cerevisiae"
   ]
  },
  {
   "cell_type": "code",
   "execution_count": 66,
   "id": "f23e4a06",
   "metadata": {},
   "outputs": [
    {
     "name": "stdout",
     "output_type": "stream",
     "text": [
      "Analysing Saccharomyces_cerevisiae genome \n",
      "\n"
     ]
    },
    {
     "name": "stderr",
     "output_type": "stream",
     "text": [
     ]
    }
   ],
   "source": [
    "s_cerevisiae_di_fr, s_cerevisiae_di_fr_th = dnf.obs_vs_theo_dinuc(\"Saccharomyces_cerevisiae.R64-1-1.dna.toplevel.fa.gz\")"
   ]
  },
  {
   "cell_type": "code",
   "execution_count": 67,
   "id": "0f476e44-e201-4216-858c-f0e6e0886c57",
   "metadata": {},
   "outputs": [
    {
     "data": {
      "text/plain": [
       "({'TT': 0.1084,\n",
       "  'GT': 0.0525,\n",
       "  'CT': 0.0582,\n",
       "  'AT': 0.0902,\n",
       "  'TG': 0.0645,\n",
       "  'GG': 0.0388,\n",
       "  'CG': 0.0292,\n",
       "  'AG': 0.0582,\n",
       "  'TC': 0.0621,\n",
       "  'GC': 0.0373,\n",
       "  'CC': 0.0388,\n",
       "  'AC': 0.0525,\n",
       "  'TA': 0.0743,\n",
       "  'GA': 0.0621,\n",
       "  'CA': 0.0645,\n",
       "  'AA': 0.1084},\n",
       " {'TT': 0.09566649,\n",
       "  'GT': 0.05898351,\n",
       "  'CT': 0.05898351,\n",
       "  'AT': 0.09566649,\n",
       "  'TG': 0.05898351,\n",
       "  'GG': 0.03636649,\n",
       "  'CG': 0.03636649,\n",
       "  'AG': 0.05898351,\n",
       "  'TC': 0.05898351,\n",
       "  'GC': 0.03636649,\n",
       "  'CC': 0.03636649,\n",
       "  'AC': 0.05898351,\n",
       "  'TA': 0.09566649,\n",
       "  'GA': 0.05898351,\n",
       "  'CA': 0.05898351,\n",
       "  'AA': 0.09566649})"
      ]
     },
     "execution_count": 67,
     "metadata": {},
     "output_type": "execute_result"
    }
   ],
   "source": [
    "s_cerevisiae_di_fr, s_cerevisiae_di_fr_th"
   ]
  },
  {
   "cell_type": "markdown",
   "id": "a39b670a-ab71-4ebb-9bb1-a7336eaaac47",
   "metadata": {},
   "source": [
    "## Caenorhabditis elegans"
   ]
  },
  {
   "cell_type": "code",
   "execution_count": 69,
   "id": "49e62b3e-bcb0-43c8-93e2-960f574d3577",
   "metadata": {},
   "outputs": [
    {
     "name": "stdout",
     "output_type": "stream",
     "text": [
      "Analysing Caenorhabditis_elegans genome \n",
      "\n"
     ]
    },
    {
     "name": "stderr",
     "output_type": "stream",
     "text": [
     ]
    }
   ],
   "source": [
    "c_elegans_di_fr, c_elegans_di_fr_th = dnf.obs_vs_theo_dinuc(\"Caenorhabditis_elegans.WBcel235.dna.toplevel.fa.gz\")"
   ]
  },
  {
   "cell_type": "code",
   "execution_count": 70,
   "id": "f2f01b7d-1eb9-4e59-a78c-b0f37585bbb1",
   "metadata": {},
   "outputs": [
    {
     "data": {
      "text/plain": [
       "({'TT': 0.1354,\n",
       "  'GT': 0.0483,\n",
       "  'CT': 0.0506,\n",
       "  'AT': 0.0885,\n",
       "  'TG': 0.0619,\n",
       "  'GG': 0.0335,\n",
       "  'CG': 0.0312,\n",
       "  'AG': 0.0506,\n",
       "  'TC': 0.0621,\n",
       "  'GC': 0.0333,\n",
       "  'CC': 0.0335,\n",
       "  'AC': 0.0483,\n",
       "  'TA': 0.0634,\n",
       "  'GA': 0.0621,\n",
       "  'CA': 0.0619,\n",
       "  'AA': 0.1354},\n",
       " {'TT': 0.10419983999999999,\n",
       "  'GT': 0.05720015999999999,\n",
       "  'CT': 0.05720015999999999,\n",
       "  'AT': 0.10419983999999999,\n",
       "  'TG': 0.05720015999999999,\n",
       "  'GG': 0.03139984,\n",
       "  'CG': 0.03139984,\n",
       "  'AG': 0.05720015999999999,\n",
       "  'TC': 0.05720015999999999,\n",
       "  'GC': 0.03139984,\n",
       "  'CC': 0.03139984,\n",
       "  'AC': 0.05720015999999999,\n",
       "  'TA': 0.10419983999999999,\n",
       "  'GA': 0.05720015999999999,\n",
       "  'CA': 0.05720015999999999,\n",
       "  'AA': 0.10419983999999999})"
      ]
     },
     "execution_count": 70,
     "metadata": {},
     "output_type": "execute_result"
    }
   ],
   "source": [
    "c_elegans_di_fr, c_elegans_di_fr_th"
   ]
  },
  {
   "cell_type": "markdown",
   "id": "5c81f94b-d688-4956-94f0-9192097476e2",
   "metadata": {},
   "source": [
    "## Bacillus subtilis"
   ]
  },
  {
   "cell_type": "code",
   "execution_count": 71,
   "id": "36f58a41-3ada-447d-a08c-02f756bdcbe2",
   "metadata": {},
   "outputs": [
    {
     "name": "stdout",
     "output_type": "stream",
     "text": [
      "Analysing Bacillus_subtilis genome \n",
      "\n"
     ]
    },
   ],
   "source": [
    "b_subtilis = dnf.obs_vs_theo_dinuc(\"Bacillus_subtilis.gz\")"
   ]
  },
  {
   "cell_type": "markdown",
   "id": "a63f2e9a-0f04-4cab-9b7c-a5008fa7356a",
   "metadata": {},
   "source": [
    "## Halobacterium salinarum"
   ]
  },
  {
   "cell_type": "code",
   "execution_count": null,
   "id": "2b069940-8cdb-46f4-95af-35a0c507aadf",
   "metadata": {},
   "outputs": [
    {
     "name": "stdout",
     "output_type": "stream",
     "text": [
      "Analysing Gallus_gallus.bGalGal1.mat.broiler.GRCg7b.dna.toplevel.fa.gz genome \n",
      "\n"
     ]
    },
    {
     "name": "stderr",
     "output_type": "stream",
     "text": [
      "0it [00:00, ?it/s]"
     ]
    }
   ],
   "source": [
    "h_salinarum = dnf.obs_vs_theo_dinuc('')"
   ]
  },
  {
   "cell_type": "markdown",
   "id": "f05872ef-43c6-4386-ab93-fe9e54197cc9",
   "metadata": {},
   "source": [
    "## Gallus gallus"
   ]
  },
  {
   "cell_type": "code",
   "execution_count": 77,
   "id": "ea515fb7-d411-42e5-925f-c21bdaf2a8b5",
   "metadata": {},
   "outputs": [
    {
     "name": "stdout",
     "output_type": "stream",
     "text": [
      "Analysing Gallus_gallus genome \n",
      "\n"
     ]
    },
    {
     "name": "stderr",
     "output_type": "stream",
     "text": [
     ]
    }
   ],
   "source": [
    "g_gallus_di_fr, g_gallus_di_fr_th = dnf.obs_vs_theo_dinuc(\"Gallus_gallus.bGalGal1.mat.broiler.GRCg7b.dna.toplevel.fa.gz\")"
   ]
  },
  {
   "cell_type": "code",
   "execution_count": 78,
   "id": "5ed69b4d-2be5-45d9-a942-ff35ec095830",
   "metadata": {},
   "outputs": [
    {
     "data": {
      "text/plain": [
       "({'TT': 0.094,\n",
       "  'GT': 0.0519,\n",
       "  'CT': 0.0723,\n",
       "  'AT': 0.0707,\n",
       "  'TG': 0.0767,\n",
       "  'GG': 0.05,\n",
       "  'CG': 0.012,\n",
       "  'AG': 0.0723,\n",
       "  'TC': 0.0595,\n",
       "  'GC': 0.0496,\n",
       "  'CC': 0.05,\n",
       "  'AC': 0.0519,\n",
       "  'TA': 0.0589,\n",
       "  'GA': 0.0595,\n",
       "  'CA': 0.0767,\n",
       "  'AA': 0.094},\n",
       " {'TT': 0.0835,\n",
       "  'GT': 0.061,\n",
       "  'CT': 0.061,\n",
       "  'AT': 0.0835,\n",
       "  'TG': 0.061,\n",
       "  'GG': 0.0445,\n",
       "  'CG': 0.0445,\n",
       "  'AG': 0.061,\n",
       "  'TC': 0.061,\n",
       "  'GC': 0.0445,\n",
       "  'CC': 0.0445,\n",
       "  'AC': 0.061,\n",
       "  'TA': 0.0835,\n",
       "  'GA': 0.061,\n",
       "  'CA': 0.061,\n",
       "  'AA': 0.0835})"
      ]
     },
     "execution_count": 78,
     "metadata": {},
     "output_type": "execute_result"
    }
   ],
   "source": [
    "g_gallus_di_fr, g_gallus_di_fr_th "
   ]
  },
  {
   "cell_type": "markdown",
   "id": "7727c1ac-c491-4fe3-b295-2e6a0aa21068",
   "metadata": {},
   "source": [
    "## Mus musculus"
   ]
  },
  {
   "cell_type": "code",
   "execution_count": null,
   "id": "fc2df562-c054-4b56-a355-6695ce19d7af",
   "metadata": {},
   "outputs": [],
   "source": [
    "m_musculus_di_fr, m_musculus_di_fr_th = dnf.obs_vs_theo_dinuc(\"Mus_musculus.GRCm39.dna.toplevel.fa.gz\")"
   ]
  },
  {
   "cell_type": "code",
   "execution_count": null,
   "id": "b9b927f0-c02f-4798-9556-bc30d8362a04",
   "metadata": {},
   "outputs": [],
   "source": [
    "m_musculus_di_fr, m_musculus_di_fr_th"
   ]
  },
  {
   "cell_type": "markdown",
   "id": "7b68c06f-ec7a-42a1-89d8-58c3a49887a0",
   "metadata": {},
   "source": [
    "## Danio rerio"
   ]
  },
  {
   "cell_type": "code",
   "execution_count": 82,
   "id": "f8464894-dccf-4e97-b50a-0be2f479a4b2",
   "metadata": {},
   "outputs": [
    {
     "name": "stdout",
     "output_type": "stream",
     "text": [
      "Analysing Danio_rerio genome \n",
      "\n"
     ]
    },
    
   ],
   "source": [
    "#d_rerio_di_fr, d_rerio_di_fr_th = dnf.obs_vs_theo_dinuc(\"Danio_rerio.GRCz11.dna.toplevel.fa.gz\")"
   ]
  },
  {
   "cell_type": "code",
   "execution_count": null,
   "id": "a1da600e-8c9d-4a59-9378-4225960408ff",
   "metadata": {},
   "outputs": [],
   "source": [
    "d_rerio_di_fr, d_rerio_di_fr_th"
   ]
  },
  {
   "cell_type": "markdown",
   "id": "adbf7c98-40ee-4989-924c-3e5787765cd8",
   "metadata": {},
   "source": [
    "## Homo sapiens"
   ]
  },
  {
   "cell_type": "code",
   "execution_count": null,
   "id": "8c636a42-d5ae-4cd0-982c-bf3311eed56e",
   "metadata": {},
   "outputs": [
    {
     "name": "stdout",
     "output_type": "stream",
     "text": [
      "Analysing Homo_sapiens genome \n",
      "\n"
     ]
    },
    {
     "name": "stderr",
     "output_type": "stream",
     "text": [
     ]
    }
   ],
   "source": [
    "h_sapiens_di_fr, h_sapiens_di_fr_th = dnf.obs_vs_theo_dinuc(\"Homo_sapiens.GRCh38.dna.toplevel.fa.gz\")"
   ]
  },
  {
   "cell_type": "code",
   "execution_count": null,
   "id": "496748c7-c45d-4c3e-8645-3c027642ba09",
   "metadata": {},
   "outputs": [],
   "source": [
    "h_sapiens_di_fr, h_sapiens_di_fr_th"
   ]
  },
  {
   "cell_type": "markdown",
   "id": "4edabb8e-769d-425b-ada6-d8c5d17bec01",
   "metadata": {},
   "source": [
    "## Saving data"
   ]
  },
  {
   "cell_type": "code",
   "execution_count": 21,
   "id": "664f96c2-23c8-433b-8c60-ad6b8b8b51ce",
   "metadata": {},
   "outputs": [
    {
     "data": {
      "text/html": [
       "<div>\n",
       "<style scoped>\n",
       "    .dataframe tbody tr th:only-of-type {\n",
       "        vertical-align: middle;\n",
       "    }\n",
       "\n",
       "    .dataframe tbody tr th {\n",
       "        vertical-align: top;\n",
       "    }\n",
       "\n",
       "    .dataframe thead th {\n",
       "        text-align: right;\n",
       "    }\n",
       "</style>\n",
       "<table border=\"1\" class=\"dataframe\">\n",
       "  <thead>\n",
       "    <tr style=\"text-align: right;\">\n",
       "      <th></th>\n",
       "      <th>AA</th>\n",
       "      <th>AC</th>\n",
       "      <th>AG</th>\n",
       "      <th>AT</th>\n",
       "      <th>CA</th>\n",
       "      <th>CC</th>\n",
       "      <th>CG</th>\n",
       "      <th>CT</th>\n",
       "      <th>GA</th>\n",
       "      <th>GC</th>\n",
       "      <th>GG</th>\n",
       "      <th>GT</th>\n",
       "      <th>TA</th>\n",
       "      <th>TC</th>\n",
       "      <th>TG</th>\n",
       "      <th>TT</th>\n",
       "    </tr>\n",
       "  </thead>\n",
       "  <tbody>\n",
       "    <tr>\n",
       "      <th>E.coli</th>\n",
       "      <td>0.0730</td>\n",
       "      <td>0.0552</td>\n",
       "      <td>0.0511</td>\n",
       "      <td>0.0668</td>\n",
       "      <td>0.0698</td>\n",
       "      <td>0.0584</td>\n",
       "      <td>0.0747</td>\n",
       "      <td>0.0511</td>\n",
       "      <td>0.0576</td>\n",
       "      <td>0.0828</td>\n",
       "      <td>0.0584</td>\n",
       "      <td>0.0552</td>\n",
       "      <td>0.0457</td>\n",
       "      <td>0.0576</td>\n",
       "      <td>0.0698</td>\n",
       "      <td>0.0730</td>\n",
       "    </tr>\n",
       "    <tr>\n",
       "      <th>D.melanogaster</th>\n",
       "      <td>0.1017</td>\n",
       "      <td>0.0526</td>\n",
       "      <td>0.0544</td>\n",
       "      <td>0.0813</td>\n",
       "      <td>0.0679</td>\n",
       "      <td>0.0463</td>\n",
       "      <td>0.0413</td>\n",
       "      <td>0.0544</td>\n",
       "      <td>0.0557</td>\n",
       "      <td>0.0554</td>\n",
       "      <td>0.0463</td>\n",
       "      <td>0.0526</td>\n",
       "      <td>0.0646</td>\n",
       "      <td>0.0557</td>\n",
       "      <td>0.0679</td>\n",
       "      <td>0.1017</td>\n",
       "    </tr>\n",
       "    <tr>\n",
       "      <th>A.thaliana</th>\n",
       "      <td>0.1156</td>\n",
       "      <td>0.0523</td>\n",
       "      <td>0.0595</td>\n",
       "      <td>0.0924</td>\n",
       "      <td>0.0635</td>\n",
       "      <td>0.0339</td>\n",
       "      <td>0.0235</td>\n",
       "      <td>0.0595</td>\n",
       "      <td>0.0641</td>\n",
       "      <td>0.0300</td>\n",
       "      <td>0.0339</td>\n",
       "      <td>0.0523</td>\n",
       "      <td>0.0766</td>\n",
       "      <td>0.0641</td>\n",
       "      <td>0.0635</td>\n",
       "      <td>0.1156</td>\n",
       "    </tr>\n",
       "    <tr>\n",
       "      <th>S.cerevisiae</th>\n",
       "      <td>0.1084</td>\n",
       "      <td>0.0525</td>\n",
       "      <td>0.0582</td>\n",
       "      <td>0.0902</td>\n",
       "      <td>0.0645</td>\n",
       "      <td>0.0388</td>\n",
       "      <td>0.0292</td>\n",
       "      <td>0.0582</td>\n",
       "      <td>0.0621</td>\n",
       "      <td>0.0373</td>\n",
       "      <td>0.0388</td>\n",
       "      <td>0.0525</td>\n",
       "      <td>0.0743</td>\n",
       "      <td>0.0621</td>\n",
       "      <td>0.0645</td>\n",
       "      <td>0.1084</td>\n",
       "    </tr>\n",
       "    <tr>\n",
       "      <th>C.elegans</th>\n",
       "      <td>0.1354</td>\n",
       "      <td>0.0483</td>\n",
       "      <td>0.0506</td>\n",
       "      <td>0.0885</td>\n",
       "      <td>0.0619</td>\n",
       "      <td>0.0335</td>\n",
       "      <td>0.0312</td>\n",
       "      <td>0.0506</td>\n",
       "      <td>0.0621</td>\n",
       "      <td>0.0333</td>\n",
       "      <td>0.0335</td>\n",
       "      <td>0.0483</td>\n",
       "      <td>0.0634</td>\n",
       "      <td>0.0621</td>\n",
       "      <td>0.0619</td>\n",
       "      <td>0.1354</td>\n",
       "    </tr>\n",
       "    <tr>\n",
       "      <th>B.subtilis</th>\n",
       "      <td>0.0987</td>\n",
       "      <td>0.0462</td>\n",
       "      <td>0.0561</td>\n",
       "      <td>0.0814</td>\n",
       "      <td>0.0666</td>\n",
       "      <td>0.0458</td>\n",
       "      <td>0.0490</td>\n",
       "      <td>0.0561</td>\n",
       "      <td>0.0654</td>\n",
       "      <td>0.0603</td>\n",
       "      <td>0.0458</td>\n",
       "      <td>0.0462</td>\n",
       "      <td>0.0517</td>\n",
       "      <td>0.0654</td>\n",
       "      <td>0.0666</td>\n",
       "      <td>0.0987</td>\n",
       "    </tr>\n",
       "    <tr>\n",
       "      <th>H.salinarum</th>\n",
       "      <td>0.0274</td>\n",
       "      <td>0.0682</td>\n",
       "      <td>0.0458</td>\n",
       "      <td>0.0289</td>\n",
       "      <td>0.0514</td>\n",
       "      <td>0.0851</td>\n",
       "      <td>0.1474</td>\n",
       "      <td>0.0458</td>\n",
       "      <td>0.0747</td>\n",
       "      <td>0.1017</td>\n",
       "      <td>0.0851</td>\n",
       "      <td>0.0682</td>\n",
       "      <td>0.0168</td>\n",
       "      <td>0.0747</td>\n",
       "      <td>0.0514</td>\n",
       "      <td>0.0274</td>\n",
       "    </tr>\n",
       "    <tr>\n",
       "      <th>G.gallus</th>\n",
       "      <td>0.0940</td>\n",
       "      <td>0.0519</td>\n",
       "      <td>0.0723</td>\n",
       "      <td>0.0707</td>\n",
       "      <td>0.0767</td>\n",
       "      <td>0.0500</td>\n",
       "      <td>0.0120</td>\n",
       "      <td>0.0723</td>\n",
       "      <td>0.0595</td>\n",
       "      <td>0.0496</td>\n",
       "      <td>0.0500</td>\n",
       "      <td>0.0519</td>\n",
       "      <td>0.0589</td>\n",
       "      <td>0.0595</td>\n",
       "      <td>0.0767</td>\n",
       "      <td>0.0940</td>\n",
       "    </tr>\n",
       "    <tr>\n",
       "      <th>M.musculus</th>\n",
       "      <td>0.0913</td>\n",
       "      <td>0.0533</td>\n",
       "      <td>0.0734</td>\n",
       "      <td>0.0738</td>\n",
       "      <td>0.0745</td>\n",
       "      <td>0.0522</td>\n",
       "      <td>0.0083</td>\n",
       "      <td>0.0734</td>\n",
       "      <td>0.0622</td>\n",
       "      <td>0.0406</td>\n",
       "      <td>0.0522</td>\n",
       "      <td>0.0533</td>\n",
       "      <td>0.0638</td>\n",
       "      <td>0.0622</td>\n",
       "      <td>0.0745</td>\n",
       "      <td>0.0913</td>\n",
       "    </tr>\n",
       "    <tr>\n",
       "      <th>D.rerio</th>\n",
       "      <td>0.1106</td>\n",
       "      <td>0.0565</td>\n",
       "      <td>0.0572</td>\n",
       "      <td>0.0926</td>\n",
       "      <td>0.0732</td>\n",
       "      <td>0.0348</td>\n",
       "      <td>0.0179</td>\n",
       "      <td>0.0572</td>\n",
       "      <td>0.0525</td>\n",
       "      <td>0.0392</td>\n",
       "      <td>0.0348</td>\n",
       "      <td>0.0565</td>\n",
       "      <td>0.0806</td>\n",
       "      <td>0.0525</td>\n",
       "      <td>0.0732</td>\n",
       "      <td>0.1106</td>\n",
       "    </tr>\n",
       "  </tbody>\n",
       "</table>\n",
       "</div>"
      ],
      "text/plain": [
       "                    AA      AC      AG      AT      CA      CC      CG   \n",
       "E.coli          0.0730  0.0552  0.0511  0.0668  0.0698  0.0584  0.0747  \\\n",
       "D.melanogaster  0.1017  0.0526  0.0544  0.0813  0.0679  0.0463  0.0413   \n",
       "A.thaliana      0.1156  0.0523  0.0595  0.0924  0.0635  0.0339  0.0235   \n",
       "S.cerevisiae    0.1084  0.0525  0.0582  0.0902  0.0645  0.0388  0.0292   \n",
       "C.elegans       0.1354  0.0483  0.0506  0.0885  0.0619  0.0335  0.0312   \n",
       "B.subtilis      0.0987  0.0462  0.0561  0.0814  0.0666  0.0458  0.0490   \n",
       "H.salinarum     0.0274  0.0682  0.0458  0.0289  0.0514  0.0851  0.1474   \n",
       "G.gallus        0.0940  0.0519  0.0723  0.0707  0.0767  0.0500  0.0120   \n",
       "M.musculus      0.0913  0.0533  0.0734  0.0738  0.0745  0.0522  0.0083   \n",
       "D.rerio         0.1106  0.0565  0.0572  0.0926  0.0732  0.0348  0.0179   \n",
       "\n",
       "                    CT      GA      GC      GG      GT      TA      TC   \n",
       "E.coli          0.0511  0.0576  0.0828  0.0584  0.0552  0.0457  0.0576  \\\n",
       "D.melanogaster  0.0544  0.0557  0.0554  0.0463  0.0526  0.0646  0.0557   \n",
       "A.thaliana      0.0595  0.0641  0.0300  0.0339  0.0523  0.0766  0.0641   \n",
       "S.cerevisiae    0.0582  0.0621  0.0373  0.0388  0.0525  0.0743  0.0621   \n",
       "C.elegans       0.0506  0.0621  0.0333  0.0335  0.0483  0.0634  0.0621   \n",
       "B.subtilis      0.0561  0.0654  0.0603  0.0458  0.0462  0.0517  0.0654   \n",
       "H.salinarum     0.0458  0.0747  0.1017  0.0851  0.0682  0.0168  0.0747   \n",
       "G.gallus        0.0723  0.0595  0.0496  0.0500  0.0519  0.0589  0.0595   \n",
       "M.musculus      0.0734  0.0622  0.0406  0.0522  0.0533  0.0638  0.0622   \n",
       "D.rerio         0.0572  0.0525  0.0392  0.0348  0.0565  0.0806  0.0525   \n",
       "\n",
       "                    TG      TT  \n",
       "E.coli          0.0698  0.0730  \n",
       "D.melanogaster  0.0679  0.1017  \n",
       "A.thaliana      0.0635  0.1156  \n",
       "S.cerevisiae    0.0645  0.1084  \n",
       "C.elegans       0.0619  0.1354  \n",
       "B.subtilis      0.0666  0.0987  \n",
       "H.salinarum     0.0514  0.0274  \n",
       "G.gallus        0.0767  0.0940  \n",
       "M.musculus      0.0745  0.0913  \n",
       "D.rerio         0.0732  0.1106  "
      ]
     },
     "execution_count": 21,
     "metadata": {},
     "output_type": "execute_result"
    }
   ],
   "source": [
    "observed = [g_gallus_di_fr, e_coli_di_fr, d_melanogaster_di_fr, a_thaliana_di_fr, s_cerevisiae_di_fr, \n",
    "            c_elegans_di_fr, m_musculus_di_fr, h_sapiens_di_fr, d_rerio_di_fr, p_dumerilii_di_fr]\n",
    "theo = [g_gallus_di_fr_th, e_coli_di_fr_th, d_melanogaster_di_fr_th, a_thaliana_di_fr_th, s_cerevisiae_di_fr_th, \n",
    "        c_elegans_di_fr_th, m_musculus_di_fr_th, h_sapiens_di_fr_th, d_rerio_di_fr_th, p_dumerilii_di_fr_th]\n",
    "organisms = {0:'G.gallus', 1:'E.coli', 2:'D.melanogaster', 3:'A.thaliana', 4:'S.cerevisiae', \n",
    "             5:'C.elegans', 6: 'M.musculus', 7: 'Р.sapiens', 8: 'D.rerio', 9: 'P.dumerilii'}\n",
    "\n",
    "with open(\"observed.json\", \"w\") as f:\n",
    "    json.dump(observed, f)\n",
    "\n",
    "with open(\"organisms.json\", \"w\") as f:\n",
    "    json.dump(organisms, f)    \n",
    "    \n",
    "with open(\"theo.json\", \"w\") as f:\n",
    "    json.dump(theo, f)    "
   ]
  }
 ],
 "metadata": {
  "kernelspec": {
   "display_name": "Python 3 (ipykernel)",
   "language": "python",
   "name": "python3"
  },
  "language_info": {
   "codemirror_mode": {
    "name": "ipython",
    "version": 3
   },
   "file_extension": ".py",
   "mimetype": "text/x-python",
   "name": "python",
   "nbconvert_exporter": "python",
   "pygments_lexer": "ipython3",
   "version": "3.9.13"
  }
 },
 "nbformat": 4,
 "nbformat_minor": 5
}
