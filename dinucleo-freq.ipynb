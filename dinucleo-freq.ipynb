{
 "cells": [
  {
   "cell_type": "markdown",
   "id": "d56bc9da-7f12-4984-bb2b-5b4c097557a1",
   "metadata": {},
   "source": [
    "# Dinucleotide frequencies in reference genomes"
   ]
  },
  {
   "cell_type": "code",
   "execution_count": 57,
   "id": "1bee1b07-75ac-431b-bc83-38013f516d32",
   "metadata": {},
   "outputs": [
    {
     "name": "stdout",
     "output_type": "stream",
     "text": [
      "Note: you may need to restart the kernel to use updated packages.\n"
     ]
    }
   ],
   "source": [
    "pip install biopython -q"
   ]
  },
  {
   "cell_type": "code",
   "execution_count": 1,
   "id": "6d57cb18-b3ee-4101-b553-797ee3665ff2",
   "metadata": {},
   "outputs": [],
   "source": [
    "import gzip\n",
    "import json\n",
    "import requests\n",
    "\n",
    "from Bio import SeqIO\n",
    "import matplotlib.pyplot as plt\n",
    "import matplotlib.patches as mpatches\n",
    "import numpy as np\n",
    "import pandas as pd\n",
    "import tarfile\n",
    "from tqdm import tqdm\n",
    "\n",
    "%reload_ext autoreload\n",
    "%autoreload 2\n",
    "import dinucleo_freq as dnf"
   ]
  },
  {
   "cell_type": "markdown",
   "id": "67f67599-0053-4ec1-ade2-3db41b1fa31f",
   "metadata": {},
   "source": [
    "## Escherichia coli"
   ]
  },
  {
   "cell_type": "code",
   "execution_count": 3,
   "id": "36b577e5-9833-44fc-ad75-c2caa9bf3a42",
   "metadata": {},
   "outputs": [
    {
     "name": "stdout",
     "output_type": "stream",
     "text": [
      "😼Analysing Escherichia coli genome\n",
      "🙀Total number of records: 3\n",
      "😸Analysing record 1: pRK1, sequence length: 102536, number of records rest: 2\n",
      "😸Analysing record 2: pRK2, sequence length: 5360, number of records rest: 1\n",
      "😸Analysing record 3: Chromosome, sequence length: 4900968, number of records rest: 0\n",
      "😻Completed\n"
     ]
    }
   ],
   "source": [
    "url=\"http://ftp.ensemblgenomes.org/pub/bacteria/release-52/fasta/bacteria_26_collection/escherichia_coli_w_gca_000184185/dna/Escherichia_coli_w_gca_000184185.ASM18418v1.dna.toplevel.fa.gz\"\n",
    "response = requests.get(url)\n",
    "with open(url.split(\"/\")[-1], 'wb') as f:\n",
    "    f.write(response.content)\n",
    "\n",
    "e_coli_di_fr, e_coli_di_fr_th = dnf.obs_vs_theo_dinuc(url.split(\"/\")[-1])"
   ]
  },
  {
   "cell_type": "markdown",
   "id": "dbddc62d-9ac3-4810-8b0e-a99c0af6f5ac",
   "metadata": {},
   "source": [
    "## Drosophila melanogaster"
   ]
  },
  {
   "cell_type": "code",
   "execution_count": null,
   "id": "8354f62b-3313-4872-9943-4c88eb135372",
   "metadata": {},
   "outputs": [],
   "source": [
    "d_melanogaster_di_fr, d_melanogaster_di_fr_th = dnf.obs_vs_theo_dinuc(\"Drosophila_melanogaster.BDGP6.32.dna.toplevel.fa.gz\")"
   ]
  },
  {
   "cell_type": "markdown",
   "id": "7dc4884f-0613-4d2c-9e86-7cd9138a4d04",
   "metadata": {},
   "source": [
    "## Platynereis dumerilii"
   ]
  },
  {
   "cell_type": "code",
   "execution_count": null,
   "id": "82a1d1e0-42a3-4d77-ad32-e9b7866112de",
   "metadata": {},
   "outputs": [],
   "source": [
    "p_dumerilii_di_fr, p_dumerilii_di_fr = dnf.obs_vs_theo_dinuc(\"GCA_026936325.1_EMBL_pdum_1.0_genomic.fna.dz\")"
   ]
  },
  {
   "cell_type": "markdown",
   "id": "240541a5-b969-4876-862a-faa6e4114b9b",
   "metadata": {},
   "source": [
    "## Arabidopsis thaliana"
   ]
  },
  {
   "cell_type": "code",
   "execution_count": null,
   "id": "b1027ef6-2553-404d-9935-f4deb2f90c1d",
   "metadata": {},
   "outputs": [],
   "source": [
    "a_thaliana_di_fr, a_thaliana_di_fr_th = dnf.obs_vs_theo_dinuc(\"Arabidopsis_thaliana.TAIR10.dna.toplevel.fa.gz\")"
   ]
  },
  {
   "cell_type": "markdown",
   "id": "27bf2d37-1176-4f24-95dd-683de10fc59c",
   "metadata": {},
   "source": [
    "## Saccharomyces cerevisiae"
   ]
  },
  {
   "cell_type": "code",
   "execution_count": null,
   "id": "0f37954e-39bc-4c8e-8f6a-5d7cfac4f955",
   "metadata": {},
   "outputs": [],
   "source": [
    "s_cerevisiae_di_fr, s_cerevisiae_di_fr_th = dnf.obs_vs_theo_dinuc(\"Saccharomyces_cerevisiae.R64-1-1.dna.toplevel.fa.gz\")"
   ]
  },
  {
   "cell_type": "markdown",
   "id": "7cc51899-603a-4155-a60a-a25f24920d46",
   "metadata": {},
   "source": [
    "## Capitella teleta"
   ]
  },
  {
   "cell_type": "code",
   "execution_count": null,
   "id": "df409588-feb6-4c97-ba72-0c0526df5b52",
   "metadata": {},
   "outputs": [],
   "source": [
    "c_teleta_di_fr, c_teleta_di_fr_th = dnf.obs_vs_theo_dinuc('Capitella_teleta.Capitella_teleta_v1.0.dna.toplevel.fa.gz')"
   ]
  },
  {
   "cell_type": "markdown",
   "id": "a39b670a-ab71-4ebb-9bb1-a7336eaaac47",
   "metadata": {},
   "source": [
    "## Caenorhabditis elegans"
   ]
  },
  {
   "cell_type": "code",
   "execution_count": null,
   "id": "59c4ed25-8112-4f59-8c61-144ec8fa5b2c",
   "metadata": {},
   "outputs": [],
   "source": [
    "c_elegans_di_fr, c_elegans_di_fr_th = dnf.obs_vs_theo_dinuc(\"Caenorhabditis_elegans.WBcel235.dna.toplevel.fa.gz\")"
   ]
  },
  {
   "cell_type": "markdown",
   "id": "5c81f94b-d688-4956-94f0-9192097476e2",
   "metadata": {},
   "source": [
    "## Bacillus subtilis"
   ]
  },
  {
   "cell_type": "code",
   "execution_count": null,
   "id": "7724c7a3-861e-40bd-bdd8-b0e47387de01",
   "metadata": {},
   "outputs": [],
   "source": [
    "with tarfile.open(\"Bacillus_subtilis.tar\", \"r\") as tar:\n",
    "    for member in tar.getmembers():\n",
    "        if member.name.endswith('.gz'):\n",
    "            handle = tar.extractfile(member)\n",
    "            b_subtilis_di_fr, b_subtilis_di_fr_th = dnf.obs_vs_theo_dinuc(handle)"
   ]
  },
  {
   "cell_type": "markdown",
   "id": "a63f2e9a-0f04-4cab-9b7c-a5008fa7356a",
   "metadata": {},
   "source": [
    "## Halobacterium salinarum"
   ]
  },
  {
   "cell_type": "code",
   "execution_count": 127,
   "id": "ebc65164-a602-4f75-9f66-efec20cfbb5e",
   "metadata": {},
   "outputs": [
    {
     "name": "stdout",
     "output_type": "stream",
     "text": [
      "😼Analysing Halobacterium salinarum genome\n",
      "😻Csompleted\n"
     ]
    }
   ],
   "source": [
    "with tarfile.open(\"Halobacterium_salinarum.tar\", \"r\") as tar:\n",
    "    for member in tar.getmembers():\n",
    "        if member.name.endswith('.gz'):\n",
    "            handle = tar.extractfile(member)\n",
    "            h_salinarum_di_fr, h_salinarum_fr_th = dnf.obs_vs_theo_dinuc(handle)"
   ]
  },
  {
   "cell_type": "markdown",
   "id": "f05872ef-43c6-4386-ab93-fe9e54197cc9",
   "metadata": {},
   "source": [
    "## Gallus gallus"
   ]
  },
  {
   "cell_type": "code",
   "execution_count": null,
   "id": "bde3b0e4-ee56-4a9c-a38e-1dd5106dc4c2",
   "metadata": {},
   "outputs": [],
   "source": [
    "g_gallus_di_fr, g_gallus_di_fr_th = dnf.obs_vs_theo_dinuc(\"Gallus_gallus.bGalGal1.mat.broiler.GRCg7b.dna.toplevel.fa.gz\")"
   ]
  },
  {
   "cell_type": "markdown",
   "id": "7727c1ac-c491-4fe3-b295-2e6a0aa21068",
   "metadata": {},
   "source": [
    "## Mus musculus"
   ]
  },
  {
   "cell_type": "code",
   "execution_count": null,
   "id": "fc2df562-c054-4b56-a355-6695ce19d7af",
   "metadata": {},
   "outputs": [],
   "source": [
    "m_musculus_di_fr, m_musculus_di_fr_th = dnf.obs_vs_theo_dinuc(\"Mus_musculus.GRCm39.dna.toplevel.fa.gz\")"
   ]
  },
  {
   "cell_type": "markdown",
   "id": "7b68c06f-ec7a-42a1-89d8-58c3a49887a0",
   "metadata": {},
   "source": [
    "## Danio rerio"
   ]
  },
  {
   "cell_type": "code",
   "execution_count": null,
   "id": "289abd8e-144e-43b8-9175-d8e1dfe39a0d",
   "metadata": {},
   "outputs": [],
   "source": [
    "d_rerio_di_fr, d_rerio_di_fr_th = dnf.obs_vs_theo_dinuc(\"Danio_rerio.GRCz11.dna.toplevel.fa.gz\")"
   ]
  },
  {
   "cell_type": "markdown",
   "id": "adbf7c98-40ee-4989-924c-3e5787765cd8",
   "metadata": {},
   "source": [
    "## Homo sapiens"
   ]
  },
  {
   "cell_type": "code",
   "execution_count": 2,
   "id": "8c636a42-d5ae-4cd0-982c-bf3311eed56e",
   "metadata": {},
   "outputs": [],
   "source": [
    "h_sapiens_di_fr, h_sapiens_di_fr_th = dnf.obs_vs_theo_dinuc(\"Homo_sapiens.GRCh38.dna.toplevel.fa.gz\")"
   ]
  },
  {
   "cell_type": "markdown",
   "id": "4edabb8e-769d-425b-ada6-d8c5d17bec01",
   "metadata": {},
   "source": [
    "## Saving data"
   ]
  },
  {
   "cell_type": "code",
   "execution_count": null,
   "id": "63a146f7-c309-44d7-9d50-9f4ff5ffac65",
   "metadata": {},
   "outputs": [],
   "source": [
    "observed = [g_gallus_di_fr, e_coli_di_fr, d_melanogaster_di_fr, a_thaliana_di_fr, s_cerevisiae_di_fr, \n",
    "            c_elegans_di_fr, m_musculus_di_fr, d_rerio_di_fr, p_dumerilii_di_fr, b_subtilis_di_fr, h_salinarum_di_fr]\n",
    "theo = [g_gallus_di_fr_th, e_coli_di_fr_th, d_melanogaster_di_fr_th, a_thaliana_di_fr_th, s_cerevisiae_di_fr_th, \n",
    "        c_elegans_di_fr_th, m_musculus_di_fr_th, d_rerio_di_fr_th, p_dumerilii_di_fr_th, b_subtilis_di_fr_th, h_salinarum_fr_th]\n",
    "organisms = {0:'G.gallus', 1:'E.coli', 2:'D.melanogaster', 3:'A.thaliana', 4:'S.cerevisiae', \n",
    "             5:'C.elegans', 6: 'M.musculus', 7: 'P.dumerilii', 8: 'D.rerio', 9: 'B.subtilis', 10: 'H.salinarum'}\n",
    "\n",
    "with open(\"observed.json\", \"w\") as f:\n",
    "    json.dump(observed, f)\n",
    "with open(\"organisms.json\", \"w\") as f:\n",
    "    json.dump(organisms, f)        \n",
    "with open(\"theo.json\", \"w\") as f:\n",
    "    json.dump(theo, f) "
   ]
  }
 ],
 "metadata": {
  "kernelspec": {
   "display_name": "Python 3 (ipykernel)",
   "language": "python",
   "name": "python3"
  },
  "language_info": {
   "codemirror_mode": {
    "name": "ipython",
    "version": 3
   },
   "file_extension": ".py",
   "mimetype": "text/x-python",
   "name": "python",
   "nbconvert_exporter": "python",
   "pygments_lexer": "ipython3",
   "version": "3.9.13"
  }
 },
 "nbformat": 4,
 "nbformat_minor": 5
}
