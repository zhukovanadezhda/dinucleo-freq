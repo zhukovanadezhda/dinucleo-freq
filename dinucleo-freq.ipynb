{
 "cells": [
  {
   "cell_type": "markdown",
   "id": "d56bc9da-7f12-4984-bb2b-5b4c097557a1",
   "metadata": {},
   "source": [
    "# Dinucleotide frequencies in reference genomes"
   ]
  },
  {
   "cell_type": "code",
   "execution_count": 57,
   "id": "1bee1b07-75ac-431b-bc83-38013f516d32",
   "metadata": {},
   "outputs": [
    {
     "name": "stdout",
     "output_type": "stream",
     "text": [
      "Note: you may need to restart the kernel to use updated packages.\n"
     ]
    }
   ],
   "source": [
    "pip install biopython -q"
   ]
  },
  {
   "cell_type": "code",
   "execution_count": 2,
   "id": "6d57cb18-b3ee-4101-b553-797ee3665ff2",
   "metadata": {},
   "outputs": [],
   "source": [
    "from Bio import SeqIO\n",
    "import gzip\n",
    "import json\n",
    "import requests\n",
    "import tarfile\n",
    "from tqdm import tqdm\n",
    "\n",
    "\n",
    "import matplotlib.pyplot as plt\n",
    "import matplotlib.patches as mpatches\n",
    "import numpy as np\n",
    "import pandas as pd\n",
    "\n",
    "\n",
    "%reload_ext autoreload\n",
    "%autoreload 2\n",
    "import dinucleo_freq as dnf"
   ]
  },
  {
   "cell_type": "markdown",
   "id": "67f67599-0053-4ec1-ade2-3db41b1fa31f",
   "metadata": {},
   "source": [
    "## Escherichia coli"
   ]
  },
  {
   "cell_type": "code",
   "execution_count": 97,
   "id": "36b577e5-9833-44fc-ad75-c2caa9bf3a42",
   "metadata": {},
   "outputs": [
    {
     "name": "stdout",
     "output_type": "stream",
     "text": [
      "😼Analysing Escherichia coli genome\n",
      "😸Sampling Chromosome\n",
      "😻Sampling completed\n",
      "😸Analising samples\n"
     ]
    },
    {
     "name": "stderr",
     "output_type": "stream",
     "text": [
      "100%|██████████████████████████████████████████████████████████████████████████████████| 10/10 [00:21<00:00,  2.13s/it]"
     ]
    },
    {
     "name": "stdout",
     "output_type": "stream",
     "text": [
      "Paired t-test results for TT:\n",
      "The difference is significant (p-value: 6.328424182440807e-09)\n",
      "\n",
      "Paired t-test results for GT:\n",
      "The difference is significant (p-value: 0.0003131192638404142)\n",
      "\n",
      "Paired t-test results for CT:\n",
      "The difference is significant (p-value: 3.8999657040026645e-05)\n",
      "\n",
      "Paired t-test results for AT:\n",
      "The difference is not significant (p-value: 0.02790594882643349)\n",
      "\n",
      "Paired t-test results for TG:\n",
      "The difference is significant (p-value: 0.0009705129022728412)\n",
      "\n",
      "Paired t-test results for GG:\n",
      "The difference is not significant (p-value: 0.22343835389652647)\n",
      "\n",
      "Paired t-test results for CG:\n",
      "The difference is not significant (p-value: 0.008329167345448403)\n",
      "\n",
      "Paired t-test results for AG:\n",
      "The difference is significant (p-value: 3.8999657040026645e-05)\n",
      "\n",
      "Paired t-test results for TC:\n",
      "The difference is not significant (p-value: 0.006557235568090369)\n",
      "\n",
      "Paired t-test results for GC:\n",
      "The difference is significant (p-value: 6.296537472745507e-07)\n",
      "\n",
      "Paired t-test results for CC:\n",
      "The difference is not significant (p-value: 0.22343835389652647)\n",
      "\n",
      "Paired t-test results for AC:\n",
      "The difference is significant (p-value: 0.0003131192638404142)\n",
      "\n",
      "Paired t-test results for TA:\n",
      "The difference is significant (p-value: 3.5544733922777876e-07)\n",
      "\n",
      "Paired t-test results for GA:\n",
      "The difference is not significant (p-value: 0.006557235568090369)\n",
      "\n",
      "Paired t-test results for CA:\n",
      "The difference is significant (p-value: 0.0009705129022728412)\n",
      "\n",
      "Paired t-test results for AA:\n",
      "The difference is significant (p-value: 6.328424182440807e-09)\n",
      "\n"
     ]
    },
    {
     "name": "stderr",
     "output_type": "stream",
     "text": [
      "\n"
     ]
    }
   ],
   "source": [
    "url=\"http://ftp.ensemblgenomes.org/pub/bacteria/release-52/fasta/bacteria_26_collection/escherichia_coli_w_gca_000184185/dna/Escherichia_coli_w_gca_000184185.ASM18418v1.dna.toplevel.fa.gz\"\n",
    "response = requests.get(url)\n",
    "with open(url.split(\"/\")[-1], 'wb') as f:\n",
    "    f.write(response.content)\n",
    "\n",
    "e_coli_di_fr, e_coli_di_fr_th = dnf.obs_vs_theo_dinuc(url.split(\"/\")[-1])"
   ]
  },
  {
   "cell_type": "markdown",
   "id": "dbddc62d-9ac3-4810-8b0e-a99c0af6f5ac",
   "metadata": {},
   "source": [
    "## Drosophila melanogaster"
   ]
  },
  {
   "cell_type": "code",
   "execution_count": null,
   "id": "8354f62b-3313-4872-9943-4c88eb135372",
   "metadata": {},
   "outputs": [],
   "source": [
    "d_melanogaster_di_fr, d_melanogaster_di_fr_th = dnf.obs_vs_theo_dinuc(\"Drosophila_melanogaster.BDGP6.32.dna.toplevel.fa.gz\")"
   ]
  },
  {
   "cell_type": "markdown",
   "id": "7dc4884f-0613-4d2c-9e86-7cd9138a4d04",
   "metadata": {},
   "source": [
    "## Platynereis dumerilii"
   ]
  },
  {
   "cell_type": "code",
   "execution_count": null,
   "id": "82a1d1e0-42a3-4d77-ad32-e9b7866112de",
   "metadata": {},
   "outputs": [],
   "source": [
    "p_dumerilii_di_fr, p_dumerilii_di_fr = dnf.obs_vs_theo_dinuc(\"GCA_026936325.1_EMBL_pdum_1.0_genomic.fna.dz\")"
   ]
  },
  {
   "cell_type": "markdown",
   "id": "240541a5-b969-4876-862a-faa6e4114b9b",
   "metadata": {},
   "source": [
    "## Arabidopsis thaliana"
   ]
  },
  {
   "cell_type": "code",
   "execution_count": null,
   "id": "b1027ef6-2553-404d-9935-f4deb2f90c1d",
   "metadata": {},
   "outputs": [],
   "source": [
    "a_thaliana_di_fr, a_thaliana_di_fr_th = dnf.obs_vs_theo_dinuc(\"Arabidopsis_thaliana.TAIR10.dna.toplevel.fa.gz\")"
   ]
  },
  {
   "cell_type": "markdown",
   "id": "27bf2d37-1176-4f24-95dd-683de10fc59c",
   "metadata": {},
   "source": [
    "## Saccharomyces cerevisiae"
   ]
  },
  {
   "cell_type": "code",
   "execution_count": null,
   "id": "0f37954e-39bc-4c8e-8f6a-5d7cfac4f955",
   "metadata": {},
   "outputs": [],
   "source": [
    "s_cerevisiae_di_fr, s_cerevisiae_di_fr_th = dnf.obs_vs_theo_dinuc(\"Saccharomyces_cerevisiae.R64-1-1.dna.toplevel.fa.gz\")"
   ]
  },
  {
   "cell_type": "markdown",
   "id": "7cc51899-603a-4155-a60a-a25f24920d46",
   "metadata": {},
   "source": [
    "## Capitella teleta"
   ]
  },
  {
   "cell_type": "code",
   "execution_count": null,
   "id": "e0a64c0a-9520-48c1-9721-776e95c7f97e",
   "metadata": {},
   "outputs": [
    {
     "name": "stdout",
     "output_type": "stream",
     "text": [
      "😼Analysing Capitella teleta genome\n",
      "🙀Total number of records: 20803\n",
      "😸Analysing record 3: CAPTEscaffold_3, sequence length: 1120146, number of records rest: 20800\n",
      "...\n",
      "😸Analysing record 23: CAPTEscaffold_20, sequence length: 777687, number of records rest: 20780\n",
      "...\n",
      "😸Analysing record 43: CAPTEscaffold_45, sequence length: 647662, number of records rest: 20760\n",
      "...\n",
      "😸Analysing record 63: CAPTEscaffold_64, sequence length: 557336, number of records rest: 20740\n",
      "...\n"
     ]
    }
   ],
   "source": [
    "c_teleta_di_fr, c_teleta_di_fr_th = dnf.obs_vs_theo_dinuc('Capitella_teleta.Capitella_teleta_v1.0.dna.toplevel.fa.gz')"
   ]
  },
  {
   "cell_type": "markdown",
   "id": "a39b670a-ab71-4ebb-9bb1-a7336eaaac47",
   "metadata": {},
   "source": [
    "## Caenorhabditis elegans"
   ]
  },
  {
   "cell_type": "code",
   "execution_count": null,
   "id": "59c4ed25-8112-4f59-8c61-144ec8fa5b2c",
   "metadata": {},
   "outputs": [],
   "source": [
    "c_elegans_di_fr, c_elegans_di_fr_th = dnf.obs_vs_theo_dinuc(\"Caenorhabditis_elegans.WBcel235.dna.toplevel.fa.gz\")"
   ]
  },
  {
   "cell_type": "code",
   "execution_count": null,
   "id": "dc6a9221-b924-4a09-a192-8eed1121fdd3",
   "metadata": {},
   "outputs": [],
   "source": [
    "https://ftp.ensembl.org/pub/release-109/fasta/xenopus_tropicalis/dna/Xenopus_tropicalis.UCB_Xtro_10.0.dna.toplevel.fa.gz\n",
    "http://ftp.ensemblgenomes.org/pub/metazoa/release-56/fasta/capitella_teleta/dna/Capitella_teleta.Capitella_teleta_v1.0.dna.toplevel.fa.gz\n",
    "https://ftp.ensembl.org/pub/release-109/fasta/parambassis_ranga/dna/Parambassis_ranga.fParRan2.1.dna.toplevel.fa.gz\n",
    "https://ftp.ensembl.org/pub/release-109/fasta/lepisosteus_oculatus/dna/Lepisosteus_oculatus.LepOcu1.dna.toplevel.fa.gz\n",
    "http://ftp.ensemblgenomes.org/pub/metazoa/release-56/fasta/crassostrea_gigas/dna/Crassostrea_gigas.GCA902806645v1.dna.toplevel.fa.gz\n",
    "http://ftp.ensemblgenomes.org/pub/metazoa/release-56/fasta/tribolium_castaneum/dna/Tribolium_castaneum.Tcas5.2.dna.toplevel.fa.gz\n",
    "https://ftp.ensembl.org/pub/release-109/fasta/takifugu_rubripes/dna/Takifugu_rubripes.fTakRub1.2.dna.toplevel.fa.gz\n",
    "https://ftp.ensemblgenomes.ebi.ac.uk/pub/plants/release-56/fasta/physcomitrium_patens/dna/Physcomitrium_patens.Phypa_V3.dna.toplevel.fa.gz"
   ]
  },
  {
   "cell_type": "markdown",
   "id": "5c81f94b-d688-4956-94f0-9192097476e2",
   "metadata": {},
   "source": [
    "## Bacillus subtilis"
   ]
  },
  {
   "cell_type": "code",
   "execution_count": 98,
   "id": "0e88abe3-db0d-4d2f-9a69-44cebeffd148",
   "metadata": {},
   "outputs": [
    {
     "name": "stdout",
     "output_type": "stream",
     "text": [
      "😼Analysing Bacillus subtilis genome\n",
      "😸Sampling NC_000964.3\n",
      "😻Sampling completed\n",
      "😸Analising samples\n"
     ]
    },
    {
     "name": "stderr",
     "output_type": "stream",
     "text": [
      "100%|██████████████████████████████████████████████████████████████████████████████████| 10/10 [00:21<00:00,  2.10s/it]"
     ]
    },
    {
     "name": "stdout",
     "output_type": "stream",
     "text": [
      "Paired t-test results for TT:\n",
      "The difference is significant (p-value: 1.4185118566816035e-06)\n",
      "\n",
      "Paired t-test results for GT:\n",
      "The difference is significant (p-value: 5.828975429145514e-09)\n",
      "\n",
      "Paired t-test results for CT:\n",
      "The difference is not significant (p-value: 0.31610085867215554)\n",
      "\n",
      "Paired t-test results for AT:\n",
      "The difference is not significant (p-value: 6371.856716430435)\n",
      "\n",
      "Paired t-test results for TG:\n",
      "The difference is significant (p-value: 0.001337774749887348)\n",
      "\n",
      "Paired t-test results for GG:\n",
      "The difference is not significant (p-value: 30.80190808303339)\n",
      "\n",
      "Paired t-test results for CG:\n",
      "The difference is not significant (p-value: 745.9957566221588)\n",
      "\n",
      "Paired t-test results for AG:\n",
      "The difference is not significant (p-value: 0.31610085867215554)\n",
      "\n",
      "Paired t-test results for TC:\n",
      "The difference is not significant (p-value: 0.007321927674951247)\n",
      "\n",
      "Paired t-test results for GC:\n",
      "The difference is significant (p-value: 1.5449992134500096e-06)\n",
      "\n",
      "Paired t-test results for CC:\n",
      "The difference is not significant (p-value: 30.80190808303339)\n",
      "\n",
      "Paired t-test results for AC:\n",
      "The difference is significant (p-value: 5.828975429145514e-09)\n",
      "\n",
      "Paired t-test results for TA:\n",
      "The difference is significant (p-value: 9.045842930783579e-08)\n",
      "\n",
      "Paired t-test results for GA:\n",
      "The difference is not significant (p-value: 0.007321927674951247)\n",
      "\n",
      "Paired t-test results for CA:\n",
      "The difference is significant (p-value: 0.001337774749887348)\n",
      "\n",
      "Paired t-test results for AA:\n",
      "The difference is significant (p-value: 1.4185118566816035e-06)\n",
      "\n"
     ]
    },
    {
     "name": "stderr",
     "output_type": "stream",
     "text": [
      "\n"
     ]
    }
   ],
   "source": [
    "with tarfile.open(\"Bacillus_subtilis.tar\", \"r\") as tar:\n",
    "    for member in tar.getmembers():\n",
    "        if member.name.endswith('.gz'):\n",
    "            handle = tar.extractfile(member)\n",
    "            b_subtilis_di_fr, b_subtilis_di_fr_th = dnf.obs_vs_theo_dinuc(handle)"
   ]
  },
  {
   "cell_type": "markdown",
   "id": "a63f2e9a-0f04-4cab-9b7c-a5008fa7356a",
   "metadata": {},
   "source": [
    "## Halobacterium salinarum"
   ]
  },
  {
   "cell_type": "code",
   "execution_count": 42,
   "id": "2b069940-8cdb-46f4-95af-35a0c507aadf",
   "metadata": {},
   "outputs": [
    {
     "name": "stdout",
     "output_type": "stream",
     "text": [
      "Analysing Halobacterium salinarum genome \n",
      "\n"
     ]
    },
    {
     "name": "stderr",
     "output_type": "stream",
     "text": [
      " 26%|██████████████████                                                    | 518661/2014238 [00:07<00:21, 68440.18it/s]\n"
     ]
    },
    {
     "ename": "KeyboardInterrupt",
     "evalue": "",
     "output_type": "error",
     "traceback": [
      "\u001b[1;31m---------------------------------------------------------------------------\u001b[0m",
      "\u001b[1;31mKeyboardInterrupt\u001b[0m                         Traceback (most recent call last)",
      "\u001b[1;32m~\\AppData\\Local\\Temp\\ipykernel_14884\\2180394406.py\u001b[0m in \u001b[0;36m<module>\u001b[1;34m\u001b[0m\n\u001b[0;32m      3\u001b[0m         \u001b[1;32mif\u001b[0m \u001b[0mmember\u001b[0m\u001b[1;33m.\u001b[0m\u001b[0mname\u001b[0m\u001b[1;33m.\u001b[0m\u001b[0mendswith\u001b[0m\u001b[1;33m(\u001b[0m\u001b[1;34m'.gz'\u001b[0m\u001b[1;33m)\u001b[0m\u001b[1;33m:\u001b[0m\u001b[1;33m\u001b[0m\u001b[1;33m\u001b[0m\u001b[0m\n\u001b[0;32m      4\u001b[0m             \u001b[0mhandle\u001b[0m \u001b[1;33m=\u001b[0m \u001b[0mtar\u001b[0m\u001b[1;33m.\u001b[0m\u001b[0mextractfile\u001b[0m\u001b[1;33m(\u001b[0m\u001b[0mmember\u001b[0m\u001b[1;33m)\u001b[0m\u001b[1;33m\u001b[0m\u001b[1;33m\u001b[0m\u001b[0m\n\u001b[1;32m----> 5\u001b[1;33m             \u001b[0mh_salinarum_di_fr\u001b[0m\u001b[1;33m,\u001b[0m \u001b[0mh_salinarum_fr_th\u001b[0m \u001b[1;33m=\u001b[0m \u001b[0mdnf\u001b[0m\u001b[1;33m.\u001b[0m\u001b[0mobs_vs_theo_dinuc\u001b[0m\u001b[1;33m(\u001b[0m\u001b[0mhandle\u001b[0m\u001b[1;33m)\u001b[0m\u001b[1;33m\u001b[0m\u001b[1;33m\u001b[0m\u001b[0m\n\u001b[0m",
      "\u001b[1;32m~\\dinucleo-freq\\dinucleo_freq.py\u001b[0m in \u001b[0;36mobs_vs_theo_dinuc\u001b[1;34m(gzipfastafile)\u001b[0m\n\u001b[0;32m     87\u001b[0m             \u001b[1;31m#rest -= 1\u001b[0m\u001b[1;33m\u001b[0m\u001b[1;33m\u001b[0m\u001b[0m\n\u001b[0;32m     88\u001b[0m             \u001b[1;31m#print(f\"\\nAnalysing record : {record.id}, number of records rest : {rest}\")\u001b[0m\u001b[1;33m\u001b[0m\u001b[1;33m\u001b[0m\u001b[0m\n\u001b[1;32m---> 89\u001b[1;33m             \u001b[0mdinuc\u001b[0m \u001b[1;33m=\u001b[0m \u001b[0mcount_dinucleotides\u001b[0m\u001b[1;33m(\u001b[0m\u001b[0mrecord\u001b[0m\u001b[1;33m)\u001b[0m\u001b[1;33m\u001b[0m\u001b[1;33m\u001b[0m\u001b[0m\n\u001b[0m\u001b[0;32m     90\u001b[0m             \u001b[1;32mfor\u001b[0m \u001b[0mkey\u001b[0m \u001b[1;32min\u001b[0m \u001b[0mdinuc\u001b[0m\u001b[1;33m:\u001b[0m\u001b[1;33m\u001b[0m\u001b[1;33m\u001b[0m\u001b[0m\n\u001b[0;32m     91\u001b[0m                 \u001b[0mdi_count\u001b[0m\u001b[1;33m[\u001b[0m\u001b[0mkey\u001b[0m\u001b[1;33m]\u001b[0m \u001b[1;33m+=\u001b[0m \u001b[0mdinuc\u001b[0m\u001b[1;33m[\u001b[0m\u001b[0mkey\u001b[0m\u001b[1;33m]\u001b[0m\u001b[1;33m\u001b[0m\u001b[1;33m\u001b[0m\u001b[0m\n",
      "\u001b[1;32m~\\dinucleo-freq\\dinucleo_freq.py\u001b[0m in \u001b[0;36mcount_dinucleotides\u001b[1;34m(seq)\u001b[0m\n\u001b[0;32m     60\u001b[0m         \u001b[1;32mif\u001b[0m \u001b[0mdi_forward\u001b[0m\u001b[1;33m[\u001b[0m\u001b[1;36m0\u001b[0m\u001b[1;33m]\u001b[0m \u001b[1;32min\u001b[0m \u001b[0mcompliments\u001b[0m \u001b[1;32mand\u001b[0m \u001b[0mdi_forward\u001b[0m\u001b[1;33m[\u001b[0m\u001b[1;36m1\u001b[0m\u001b[1;33m]\u001b[0m \u001b[1;32min\u001b[0m \u001b[0mcompliments\u001b[0m\u001b[1;33m:\u001b[0m\u001b[1;33m\u001b[0m\u001b[1;33m\u001b[0m\u001b[0m\n\u001b[0;32m     61\u001b[0m             \u001b[0mdi_reversed\u001b[0m \u001b[1;33m=\u001b[0m \u001b[0mcompliments\u001b[0m\u001b[1;33m[\u001b[0m\u001b[0mdi_forward\u001b[0m\u001b[1;33m[\u001b[0m\u001b[1;36m1\u001b[0m\u001b[1;33m]\u001b[0m\u001b[1;33m]\u001b[0m\u001b[1;33m+\u001b[0m\u001b[0mcompliments\u001b[0m\u001b[1;33m[\u001b[0m\u001b[0mdi_forward\u001b[0m\u001b[1;33m[\u001b[0m\u001b[1;36m0\u001b[0m\u001b[1;33m]\u001b[0m\u001b[1;33m]\u001b[0m\u001b[1;33m\u001b[0m\u001b[1;33m\u001b[0m\u001b[0m\n\u001b[1;32m---> 62\u001b[1;33m             \u001b[0mdi_counts\u001b[0m\u001b[1;33m[\u001b[0m\u001b[0mdi_forward\u001b[0m\u001b[1;33m]\u001b[0m \u001b[1;33m+=\u001b[0m \u001b[1;36m1\u001b[0m\u001b[1;33m\u001b[0m\u001b[1;33m\u001b[0m\u001b[0m\n\u001b[0m\u001b[0;32m     63\u001b[0m             \u001b[0mdi_counts\u001b[0m\u001b[1;33m[\u001b[0m\u001b[0mdi_reversed\u001b[0m\u001b[1;33m]\u001b[0m \u001b[1;33m+=\u001b[0m \u001b[1;36m1\u001b[0m\u001b[1;33m\u001b[0m\u001b[1;33m\u001b[0m\u001b[0m\n\u001b[0;32m     64\u001b[0m \u001b[1;33m\u001b[0m\u001b[0m\n",
      "\u001b[1;32m~\\AppData\\Roaming\\Python\\Python39\\site-packages\\Bio\\Seq.py\u001b[0m in \u001b[0;36m__eq__\u001b[1;34m(self, other)\u001b[0m\n\u001b[0;32m    420\u001b[0m             \u001b[1;32mreturn\u001b[0m \u001b[0mself\u001b[0m\u001b[1;33m.\u001b[0m\u001b[0m_data\u001b[0m \u001b[1;33m==\u001b[0m \u001b[0mother\u001b[0m\u001b[1;33m.\u001b[0m\u001b[0m_data\u001b[0m\u001b[1;33m\u001b[0m\u001b[1;33m\u001b[0m\u001b[0m\n\u001b[0;32m    421\u001b[0m         \u001b[1;32melif\u001b[0m \u001b[0misinstance\u001b[0m\u001b[1;33m(\u001b[0m\u001b[0mother\u001b[0m\u001b[1;33m,\u001b[0m \u001b[0mstr\u001b[0m\u001b[1;33m)\u001b[0m\u001b[1;33m:\u001b[0m\u001b[1;33m\u001b[0m\u001b[1;33m\u001b[0m\u001b[0m\n\u001b[1;32m--> 422\u001b[1;33m             \u001b[1;32mreturn\u001b[0m \u001b[0mself\u001b[0m\u001b[1;33m.\u001b[0m\u001b[0m_data\u001b[0m \u001b[1;33m==\u001b[0m \u001b[0mother\u001b[0m\u001b[1;33m.\u001b[0m\u001b[0mencode\u001b[0m\u001b[1;33m(\u001b[0m\u001b[1;34m\"ASCII\"\u001b[0m\u001b[1;33m)\u001b[0m\u001b[1;33m\u001b[0m\u001b[1;33m\u001b[0m\u001b[0m\n\u001b[0m\u001b[0;32m    423\u001b[0m         \u001b[1;32melse\u001b[0m\u001b[1;33m:\u001b[0m\u001b[1;33m\u001b[0m\u001b[1;33m\u001b[0m\u001b[0m\n\u001b[0;32m    424\u001b[0m             \u001b[1;32mreturn\u001b[0m \u001b[0mself\u001b[0m\u001b[1;33m.\u001b[0m\u001b[0m_data\u001b[0m \u001b[1;33m==\u001b[0m \u001b[0mother\u001b[0m\u001b[1;33m\u001b[0m\u001b[1;33m\u001b[0m\u001b[0m\n",
      "\u001b[1;31mKeyboardInterrupt\u001b[0m: "
     ]
    }
   ],
   "source": [
    "with tarfile.open(\"Halobacterium_salinarum.tar\", \"r\") as tar:\n",
    "    for member in tar.getmembers():\n",
    "        if member.name.endswith('.gz'):\n",
    "            handle = tar.extractfile(member)\n",
    "            h_salinarum_di_fr, h_salinarum_fr_th = dnf.obs_vs_theo_dinuc(handle)"
   ]
  },
  {
   "cell_type": "markdown",
   "id": "f05872ef-43c6-4386-ab93-fe9e54197cc9",
   "metadata": {},
   "source": [
    "## Gallus gallus"
   ]
  },
  {
   "cell_type": "code",
   "execution_count": null,
   "id": "bde3b0e4-ee56-4a9c-a38e-1dd5106dc4c2",
   "metadata": {},
   "outputs": [],
   "source": [
    "g_gallus_di_fr, g_gallus_di_fr_th = dnf.obs_vs_theo_dinuc(\"Gallus_gallus.bGalGal1.mat.broiler.GRCg7b.dna.toplevel.fa.gz\")"
   ]
  },
  {
   "cell_type": "markdown",
   "id": "7727c1ac-c491-4fe3-b295-2e6a0aa21068",
   "metadata": {},
   "source": [
    "## Mus musculus"
   ]
  },
  {
   "cell_type": "code",
   "execution_count": null,
   "id": "fc2df562-c054-4b56-a355-6695ce19d7af",
   "metadata": {},
   "outputs": [],
   "source": [
    "m_musculus_di_fr, m_musculus_di_fr_th = dnf.obs_vs_theo_dinuc(\"Mus_musculus.GRCm39.dna.toplevel.fa.gz\")"
   ]
  },
  {
   "cell_type": "markdown",
   "id": "7b68c06f-ec7a-42a1-89d8-58c3a49887a0",
   "metadata": {},
   "source": [
    "## Danio rerio"
   ]
  },
  {
   "cell_type": "code",
   "execution_count": null,
   "id": "289abd8e-144e-43b8-9175-d8e1dfe39a0d",
   "metadata": {},
   "outputs": [],
   "source": [
    "d_rerio_di_fr, d_rerio_di_fr_th = dnf.obs_vs_theo_dinuc(\"Danio_rerio.GRCz11.dna.toplevel.fa.gz\")"
   ]
  },
  {
   "cell_type": "markdown",
   "id": "adbf7c98-40ee-4989-924c-3e5787765cd8",
   "metadata": {},
   "source": [
    "## Homo sapiens"
   ]
  },
  {
   "cell_type": "code",
   "execution_count": 2,
   "id": "8c636a42-d5ae-4cd0-982c-bf3311eed56e",
   "metadata": {},
   "outputs": [],
   "source": [
    "h_sapiens_di_fr, h_sapiens_di_fr_th = dnf.obs_vs_theo_dinuc(\"Homo_sapiens.GRCh38.dna.toplevel.fa.gz\")"
   ]
  },
  {
   "cell_type": "markdown",
   "id": "4edabb8e-769d-425b-ada6-d8c5d17bec01",
   "metadata": {},
   "source": [
    "## Saving data"
   ]
  },
  {
   "cell_type": "code",
   "execution_count": null,
   "id": "63a146f7-c309-44d7-9d50-9f4ff5ffac65",
   "metadata": {},
   "outputs": [],
   "source": [
    "observed = [g_gallus_di_fr, e_coli_di_fr, d_melanogaster_di_fr, a_thaliana_di_fr, s_cerevisiae_di_fr, \n",
    "            c_elegans_di_fr, m_musculus_di_fr, d_rerio_di_fr, p_dumerilii_di_fr, b_subtilis_di_fr, h_salinarum_di_fr]\n",
    "theo = [g_gallus_di_fr_th, e_coli_di_fr_th, d_melanogaster_di_fr_th, a_thaliana_di_fr_th, s_cerevisiae_di_fr_th, \n",
    "        c_elegans_di_fr_th, m_musculus_di_fr_th, d_rerio_di_fr_th, p_dumerilii_di_fr_th, b_subtilis_di_fr_th, h_salinarum_fr_th]\n",
    "organisms = {0:'G.gallus', 1:'E.coli', 2:'D.melanogaster', 3:'A.thaliana', 4:'S.cerevisiae', \n",
    "             5:'C.elegans', 6: 'M.musculus', 7: 'P.dumerilii', 8: 'D.rerio', 9: 'B.subtilis', 10: 'H.salinarum'}\n",
    "\n",
    "for dic in observed:\n",
    "    observed1 = {k: dic[k] for k in sorted(dic)}\n",
    "for dic in theo:\n",
    "    theo1 = {k: dic[k] for k in sorted(dic)}\n",
    "\n",
    "with open(\"observed.json\", \"w\") as f:\n",
    "    json.dump(observed1, f)\n",
    "with open(\"organisms.json\", \"w\") as f:\n",
    "    json.dump(organisms, f)        \n",
    "with open(\"theo.json\", \"w\") as f:\n",
    "    json.dump(theo1, f) "
   ]
  },
  {
   "cell_type": "code",
   "execution_count": 71,
   "id": "a1903f0b-e30c-4490-a377-37d3a9657512",
   "metadata": {},
   "outputs": [],
   "source": [
    "import random\n",
    "\n",
    "\n",
    "def test_significance(record):\n",
    "\n",
    "    samples = []\n",
    "    sample_index = random.sample(range(len(record)-10), 10)\n",
    "    print(sample_index)\n",
    "    sample = ''\n",
    "    for i in sample_index:\n",
    "        samples.append(record[i:i+10])\n",
    "        \n",
    "    di_freq_distribution = {\"TT\": [], \"GT\": [], \"CT\": [], \"AT\": [], \"TG\": [], \"GG\": [], \"CG\": [], \"AG\": [], \n",
    "                                \"TC\": [], \"GC\": [], \"CC\": [], \"AC\": [], \"TA\": [], \"GA\": [], \"CA\": [], \"AA\": []}\n",
    "        \n",
    "    di_freq_theo_distribution = {\"TT\": [], \"GT\": [], \"CT\": [], \"AT\": [], \"TG\": [], \"GG\": [], \"CG\": [], \"AG\": [], \n",
    "                                     \"TC\": [], \"GC\": [], \"CC\": [], \"AC\": [], \"TA\": [], \"GA\": [], \"CA\": [], \"AA\": []}\n",
    "\n",
    "    for sample in samples:\n",
    "        print(sample)\n",
    "        total_di = 0\n",
    "        total_nu = 0\n",
    "        di_count = {\"TT\": 0, \"GT\": 0, \"CT\": 0, \"AT\": 0, \"TG\": 0, \"GG\": 0, \"CG\": 0, \"AG\": 0, \n",
    "                    \"TC\": 0, \"GC\": 0, \"CC\": 0, \"AC\": 0, \"TA\": 0, \"GA\": 0, \"CA\": 0, \"AA\": 0}\n",
    "        nucl_count = {\"A\": 0, \"C\": 0, \"G\": 0, \"T\": 0}\n",
    "    \n",
    "        dinuc = dnf.count_dinucleotides(sample)\n",
    "        for key in dinuc:\n",
    "            di_count[key] += dinuc[key]\n",
    "        nuc = dnf.count_nucleotides(sample)\n",
    "        for key in nuc:\n",
    "            nucl_count[key] += nuc[key]\n",
    "                \n",
    "        total_di = sum(di_count.values())\n",
    "        total_nu = sum(nucl_count.values())  \n",
    "\n",
    "        di_freq = {\"TT\": 0, \"GT\": 0, \"CT\": 0, \"AT\": 0, \"TG\": 0, \"GG\": 0, \"CG\": 0, \"AG\": 0, \n",
    "                    \"TC\": 0, \"GC\": 0, \"CC\": 0, \"AC\": 0, \"TA\": 0, \"GA\": 0, \"CA\": 0, \"AA\": 0}\n",
    "\n",
    "        for di in sorted(di_count.keys()):\n",
    "            di_freq[di] = round(di_count[di] / total_di, 4) \n",
    "\n",
    "        nucl_freq = {\"A\": 0, \"C\": 0, \"G\": 0, \"T\": 0} \n",
    "        for nucl in nucl_count:\n",
    "            nucl_freq[nucl] = round(nucl_count[nucl] / total_nu, 4)  \n",
    "        di_freq_theo = dnf.count_dinucleotide_freq_theo(nucl_freq)\n",
    "        for key in di_freq:\n",
    "            di_freq_distribution[key].append(di_freq[key])\n",
    "            di_freq_theo_distribution[key].append(di_freq_theo[key])\n",
    "        \n",
    "    return di_freq_distribution, di_freq_theo_distribution"
   ]
  },
  {
   "cell_type": "code",
   "execution_count": 72,
   "id": "ac9c425d-e016-4f4c-bb71-cb1e5924ef72",
   "metadata": {},
   "outputs": [
    {
     "name": "stdout",
     "output_type": "stream",
     "text": [
      "[9, 0, 3, 10, 4, 6, 8, 1, 7, 12]\n",
      "CCGGGGGAAA\n"
     ]
    },
    {
     "name": "stderr",
     "output_type": "stream",
     "text": [
      "100%|████████████████████████████████████████████████████████████████████████████████████████████| 9/9 [00:00<?, ?it/s]\n"
     ]
    },
    {
     "name": "stdout",
     "output_type": "stream",
     "text": [
      "AAATTTTCCC\n"
     ]
    },
    {
     "name": "stderr",
     "output_type": "stream",
     "text": [
      "100%|██████████████████████████████████████████████████████████████████████████████████| 9/9 [00:00<00:00, 4512.70it/s]\n"
     ]
    },
    {
     "name": "stdout",
     "output_type": "stream",
     "text": [
      "TTTTCCCCGG\n"
     ]
    },
    {
     "name": "stderr",
     "output_type": "stream",
     "text": [
      "100%|████████████████████████████████████████████████████████████████████████████████████████████| 9/9 [00:00<?, ?it/s]\n"
     ]
    },
    {
     "name": "stdout",
     "output_type": "stream",
     "text": [
      "CGGGGGAAAT\n"
     ]
    },
    {
     "name": "stderr",
     "output_type": "stream",
     "text": [
      "100%|████████████████████████████████████████████████████████████████████████████████████████████| 9/9 [00:00<?, ?it/s]\n"
     ]
    },
    {
     "name": "stdout",
     "output_type": "stream",
     "text": [
      "TTTCCCCGGG\n"
     ]
    },
    {
     "name": "stderr",
     "output_type": "stream",
     "text": [
      "100%|████████████████████████████████████████████████████████████████████████████████████████████| 9/9 [00:00<?, ?it/s]\n"
     ]
    },
    {
     "name": "stdout",
     "output_type": "stream",
     "text": [
      "TCCCCGGGGG\n"
     ]
    },
    {
     "name": "stderr",
     "output_type": "stream",
     "text": [
      "100%|████████████████████████████████████████████████████████████████████████████████████████████| 9/9 [00:00<?, ?it/s]\n"
     ]
    },
    {
     "name": "stdout",
     "output_type": "stream",
     "text": [
      "CCCGGGGGAA\n"
     ]
    },
    {
     "name": "stderr",
     "output_type": "stream",
     "text": [
      "100%|██████████████████████████████████████████████████████████████████████████████████| 9/9 [00:00<00:00, 9022.16it/s]\n"
     ]
    },
    {
     "name": "stdout",
     "output_type": "stream",
     "text": [
      "AATTTTCCCC\n"
     ]
    },
    {
     "name": "stderr",
     "output_type": "stream",
     "text": [
      "100%|████████████████████████████████████████████████████████████████████████████████████████████| 9/9 [00:00<?, ?it/s]\n"
     ]
    },
    {
     "name": "stdout",
     "output_type": "stream",
     "text": [
      "CCCCGGGGGA\n"
     ]
    },
    {
     "name": "stderr",
     "output_type": "stream",
     "text": [
      "100%|████████████████████████████████████████████████████████████████████████████████████████████| 9/9 [00:00<?, ?it/s]\n"
     ]
    },
    {
     "name": "stdout",
     "output_type": "stream",
     "text": [
      "GGGGAAATTT\n"
     ]
    },
    {
     "name": "stderr",
     "output_type": "stream",
     "text": [
      "100%|████████████████████████████████████████████████████████████████████████████████████████████| 9/9 [00:00<?, ?it/s]\n"
     ]
    }
   ],
   "source": [
    "di_freq_distribution, di_freq_theo_distribution = test_significance(\"AAATTTTCCCCGGGGGAAATTTTT\")"
   ]
  },
  {
   "cell_type": "code",
   "execution_count": 74,
   "id": "c60bfc4a-5cfc-4c7e-b110-e5c42702ebff",
   "metadata": {},
   "outputs": [
    {
     "data": {
      "text/plain": [
       "[0.1111, 0.2778, 0.1667, 0.1111, 0.1111, 0.0, 0.0556, 0.2222, 0.0, 0.2222]"
      ]
     },
     "execution_count": 74,
     "metadata": {},
     "output_type": "execute_result"
    }
   ],
   "source": [
    "di_freq_distribution[\"TT\"]"
   ]
  },
  {
   "cell_type": "code",
   "execution_count": 77,
   "id": "8fda4fe5-7e4f-4e5a-ad94-67437fbb01ad",
   "metadata": {},
   "outputs": [
    {
     "name": "stdout",
     "output_type": "stream",
     "text": [
      "Paired t-test results for TT:\n",
      "The difference is significant (p-value: 0.0010906781407203341)\n",
      "\n",
      "Paired t-test results for GT:\n",
      "The difference is significant (p-value: 2.951164615602127e-06)\n",
      "\n",
      "Paired t-test results for CT:\n",
      "The difference is significant (p-value: 2.951164615602127e-06)\n",
      "\n",
      "Paired t-test results for AT:\n",
      "The difference is not significant (p-value: 0.9850892677687362)\n",
      "\n",
      "Paired t-test results for TG:\n",
      "The difference is significant (p-value: 2.951164615602127e-06)\n",
      "\n",
      "Paired t-test results for GG:\n",
      "The difference is significant (p-value: 1.1509335479821208e-07)\n",
      "\n",
      "Paired t-test results for CG:\n",
      "The difference is significant (p-value: 0.032774281910126137)\n",
      "\n",
      "Paired t-test results for AG:\n",
      "The difference is significant (p-value: 2.951164615602127e-06)\n",
      "\n",
      "Paired t-test results for TC:\n",
      "The difference is not significant (p-value: 0.15344326527344468)\n",
      "\n",
      "Paired t-test results for GC:\n",
      "The difference is significant (p-value: 0.0004908877400403946)\n",
      "\n",
      "Paired t-test results for CC:\n",
      "The difference is significant (p-value: 1.1509335479821208e-07)\n",
      "\n",
      "Paired t-test results for AC:\n",
      "The difference is significant (p-value: 2.951164615602127e-06)\n",
      "\n",
      "Paired t-test results for TA:\n",
      "The difference is significant (p-value: 0.008885203534870158)\n",
      "\n",
      "Paired t-test results for GA:\n",
      "The difference is not significant (p-value: 0.15344326527344468)\n",
      "\n",
      "Paired t-test results for CA:\n",
      "The difference is significant (p-value: 2.951164615602127e-06)\n",
      "\n",
      "Paired t-test results for AA:\n",
      "The difference is significant (p-value: 0.0010906781407203341)\n",
      "\n"
     ]
    }
   ],
   "source": [
    "import numpy as np\n",
    "from scipy.stats import ttest_rel\n",
    "\n",
    "\n",
    "for key in di_freq_distribution:\n",
    "    t_stat, p_val = ttest_rel(di_freq_distribution[key], di_freq_theo_distribution[key])\n",
    "\n",
    "    print(f\"Paired t-test results for {key}:\")\n",
    "    if p_val < 0.05:\n",
    "        print(f\"The difference is significant (p-value: {p_val})\\n\")\n",
    "    else:\n",
    "        print(f\"The difference is not significant (p-value: {p_val})\\n\")"
   ]
  }
 ],
 "metadata": {
  "kernelspec": {
   "display_name": "Python 3 (ipykernel)",
   "language": "python",
   "name": "python3"
  },
  "language_info": {
   "codemirror_mode": {
    "name": "ipython",
    "version": 3
   },
   "file_extension": ".py",
   "mimetype": "text/x-python",
   "name": "python",
   "nbconvert_exporter": "python",
   "pygments_lexer": "ipython3",
   "version": "3.9.13"
  }
 },
 "nbformat": 4,
 "nbformat_minor": 5
}
